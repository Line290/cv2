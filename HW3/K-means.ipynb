{
 "cells": [
  {
   "cell_type": "code",
   "execution_count": 7,
   "metadata": {},
   "outputs": [],
   "source": [
    "import numpy as np\n",
    "import pandas as pd\n",
    "import matplotlib.pyplot as plt\n",
    "import os\n",
    "import subprocess\n",
    "import scipy.io as sio\n",
    "import cv2"
   ]
  },
  {
   "cell_type": "markdown",
   "metadata": {},
   "source": [
    "# LBP  \n",
    "https://en.wikipedia.org/wiki/Local_binary_patterns"
   ]
  },
  {
   "cell_type": "code",
   "execution_count": 8,
   "metadata": {},
   "outputs": [],
   "source": [
    "def LBP(img, patch_size=3):\n",
    "#     img = cv2.imread(img_path, cv2.IMREAD_GRAYSCALE)\n",
    "    \n",
    "    H, W = img.shape\n",
    "#     print img.shape\n",
    "    s0, s1 = img.strides\n",
    "    nH = H - patch_size + 1\n",
    "    nW = W - patch_size + 1\n",
    "    \n",
    "    shp = patch_size, patch_size, nH, nW\n",
    "    strd = s0, s1, s0, s1\n",
    "    out_view = np.lib.stride_tricks.as_strided(img, shape=shp, strides=strd)\n",
    "#     print out_view.shape\n",
    "    img_patch = out_view.reshape(patch_size*patch_size, nH, nW).transpose(1,2,0)\n",
    "#     print img_patch.shape\n",
    "    base = np.array([128, 64, 32, 1, 0, 16, 2, 4, 8])\n",
    "#     print base.shape\n",
    "    mask = [img_patch > img_patch[:, :, 4].reshape(nH, nW, 1)]\n",
    "    mask = np.array(mask)[0]\n",
    "#     print mask.shape\n",
    "    LBP_img = np.sum(mask*base, axis = 2)\n",
    "#     print LBP_img.shape\n",
    "    return LBP_img"
   ]
  },
  {
   "cell_type": "markdown",
   "metadata": {},
   "source": [
    "# For NO.1 ~ NO.10 people , each one has 22 face images in this dataset with LBP."
   ]
  },
  {
   "cell_type": "code",
   "execution_count": 9,
   "metadata": {},
   "outputs": [],
   "source": [
    "def extract_data_LBP():\n",
    "    \n",
    "    if os.path.exists('./data2') == False:\n",
    "        print \"'./data2' path doesn't exist\"\n",
    "        print \"Creat path './data2'\"\n",
    "        os.mkdir('./data2')\n",
    "    else:\n",
    "        X = np.load('./data2/X_train.npy')\n",
    "        y = np.load('./data2/y_label.npy')\n",
    "        print 'Data is existing, success load data:'\n",
    "        print 'Training data: '+str(X.shape)\n",
    "        print 'Label: '+str(y.shape)\n",
    "        return X, y\n",
    "    \n",
    "    print 'Extracting data...'\n",
    "    PATH = './CroppedYale10'\n",
    "    print 'Check all image files\\' package' \n",
    "    print subprocess.check_output([\"ls\", PATH]).decode('utf8')\n",
    "    all_face_package_path = os.listdir(PATH)\n",
    "    FLAG = True\n",
    "    for i, face_path in enumerate(all_face_package_path):\n",
    "        Face_one_person = os.path.join(PATH, face_path)\n",
    "    #     print subprocess.check_output([\"ls\", Face_one_person]).decode('utf8')\n",
    "#         all_face_one_person = os.listdir(Face_one_person)\n",
    "        with open(Face_one_person+'/'+face_path+'_P00.info') as f: \n",
    "            all_face_one_person = f.read().splitlines()\n",
    "        for j, one_face in enumerate(all_face_one_person):\n",
    "            if j==0:\n",
    "                continue\n",
    "            face_img_path = os.path.join(Face_one_person, one_face)\n",
    "            img = cv2.imread(face_img_path, cv2.IMREAD_GRAYSCALE)\n",
    "            if img is None:\n",
    "                continue\n",
    "            face = cv2.resize(img, (168,192))\n",
    "#             face = saliency_fft(face)\n",
    "#             face = LBP(img, 3)\n",
    "            face = LBP(face, 3)\n",
    "            if j < 10:\n",
    "                print j\n",
    "                plt.imshow(face, cmap='gray')\n",
    "                plt.axis('off')\n",
    "                plt.show()\n",
    "            H, W = face.shape\n",
    "            print face_img_path\n",
    "            print face.shape\n",
    "            face = face.reshape(-1)\n",
    "            if FLAG == True:\n",
    "                X = np.zeros((1, H*W))\n",
    "                y = np.zeros(1, np.int)\n",
    "                X = X + face\n",
    "                FLAG = False\n",
    "                continue\n",
    "            print i,j\n",
    "            X = np.vstack((X, face))\n",
    "            y = np.vstack((y,np.array(i)))\n",
    "    np.save('./data2/X_train.npy', X)\n",
    "    np.save('./data2/y_label.npy', y)\n",
    "    return X, y"
   ]
  },
  {
   "cell_type": "markdown",
   "metadata": {},
   "source": [
    "# All face images in this dataset, resize to $\\frac{1}{4}$ resolution compare to original image."
   ]
  },
  {
   "cell_type": "code",
   "execution_count": 10,
   "metadata": {},
   "outputs": [],
   "source": [
    "def extract_data():\n",
    "    \n",
    "    if os.path.exists('./data') == False:\n",
    "        print \"./data path doesn't exist\"\n",
    "        print \"Creat path ./data\"\n",
    "        os.mkdir('./data')\n",
    "    else:\n",
    "        X = np.load('./data/X_train.npy')\n",
    "        y = np.load('./data/y_label.npy')\n",
    "        print 'Data is existing, success load data:'\n",
    "        print 'Training data: '+str(X.shape)\n",
    "        print 'Label: '+str(y.shape)\n",
    "        return X, y\n",
    "    \n",
    "    print 'Extracting data...'\n",
    "    PATH = './CroppedYale'\n",
    "    print 'Check all image files\\' package' \n",
    "    print subprocess.check_output([\"ls\", PATH]).decode('utf8')\n",
    "    all_face_package_path = os.listdir(PATH)\n",
    "    FLAG = True\n",
    "    for i, face_path in enumerate(all_face_package_path):\n",
    "        Face_one_person = os.path.join(PATH, face_path)\n",
    "    #     print subprocess.check_output([\"ls\", Face_one_person]).decode('utf8')\n",
    "        all_face_one_person = os.listdir(Face_one_person)\n",
    "        for j, one_face in enumerate(all_face_one_person):\n",
    "            face_img_path = os.path.join(Face_one_person, one_face)\n",
    "            img = cv2.imread(face_img_path, cv2.IMREAD_GRAYSCALE)\n",
    "            if img is None:\n",
    "                continue\n",
    "            face = cv2.resize(img, (42,48))\n",
    "#             face = saliency_fft(face)\n",
    "#             face = LBP(img, 3)\n",
    "#             face = LBP(face, 3)\n",
    "            if j < 10:\n",
    "                print j\n",
    "                plt.imshow(face, cmap='gray')\n",
    "                plt.axis('off')\n",
    "                plt.show()\n",
    "            H, W = face.shape\n",
    "            print face_img_path\n",
    "            print face.shape\n",
    "            face = face.reshape(-1)\n",
    "            if FLAG == True:\n",
    "                X = np.zeros((1, H*W))\n",
    "                y = np.zeros(1, np.int)\n",
    "                X = X + face\n",
    "                FLAG = False\n",
    "                continue\n",
    "            print i,j\n",
    "            X = np.vstack((X, face))\n",
    "            y = np.vstack((y,np.array(i)))\n",
    "    np.save('./data/X_train.npy', X)\n",
    "    np.save('./data/y_label.npy', y)\n",
    "    return X, y"
   ]
  },
  {
   "cell_type": "code",
   "execution_count": 15,
   "metadata": {},
   "outputs": [
    {
     "name": "stdout",
     "output_type": "stream",
     "text": [
      "Data is existing, success load data:\n",
      "Training data: (220, 31540)\n",
      "Label: (220, 1)\n"
     ]
    }
   ],
   "source": [
    "X, y = extract_data_LBP()"
   ]
  },
  {
   "cell_type": "code",
   "execution_count": 16,
   "metadata": {},
   "outputs": [
    {
     "name": "stdout",
     "output_type": "stream",
     "text": [
      "[13058.374516       0.         10884.78084299 14726.71769268\n",
      " 16723.21640714 18047.94993898 18209.29471451 18787.04569644\n",
      " 17979.65322246 17655.92266068 17105.39593228 16744.81149491\n",
      " 15891.28934354 18314.41699864 20174.10374713 17239.94286533\n",
      " 17141.38553326 18129.42232946 19011.1079635  18897.97481213\n",
      " 17937.27738538 17642.08343705]\n",
      "[22052.16449694 21992.09748978 26016.35116614 25957.77403785\n",
      " 22115.51177341 22346.56685041 22463.10495012 22494.3253733\n",
      " 22238.20386182 22051.18196379 21989.01246077 21935.04752673\n",
      " 21869.56403315 22203.03875599 22361.73542013 22069.54091049\n",
      " 21929.48387446 21976.59985075 22189.70276953 22093.44522704\n",
      " 21865.91473047 21897.5760074 ]\n"
     ]
    }
   ],
   "source": [
    "samePicDis = np.sqrt(np.sum((X[0:22] - X[1])**2, axis=1))\n",
    "print samePicDis\n",
    "samePicDis = np.sqrt(np.sum((X[22:44] - X[1])**2, axis=1))\n",
    "print samePicDis\n",
    "# for i in range(10):\n",
    "#     samePicDis = np.sqrt(np.sum((X[i*23:i*23+23] - X[i*23])**2, axis=1))\n",
    "#     print np.sum(samePicDis<18000)"
   ]
  },
  {
   "cell_type": "code",
   "execution_count": 17,
   "metadata": {},
   "outputs": [],
   "source": [
    "# normalization\n",
    "X = X / 255\n",
    "# X = X - X.mean(axis=1).reshape(-1,1)"
   ]
  },
  {
   "cell_type": "code",
   "execution_count": 18,
   "metadata": {},
   "outputs": [],
   "source": [
    "# number of classes\n",
    "K = 10\n",
    "\n",
    "N, D = X.shape\n",
    "# shuffle data\n",
    "np.random.seed(520)\n",
    "X_train = np.random.permutation(X)\n",
    "np.random.seed(520)\n",
    "y_label = np.random.permutation(y)"
   ]
  },
  {
   "cell_type": "code",
   "execution_count": 23,
   "metadata": {},
   "outputs": [
    {
     "name": "stdout",
     "output_type": "stream",
     "text": [
      "(2200, 31540) (10, 31540)\n"
     ]
    }
   ],
   "source": [
    "X_train_expend = X_train.repeat(K, axis = 0)\n",
    "# init K*D center\n",
    "K_centers = np.random.rand(K,D)\n",
    "# K_centers = X_train[:10]\n",
    "print X_train_expend.shape, K_centers.shape"
   ]
  },
  {
   "cell_type": "code",
   "execution_count": 24,
   "metadata": {},
   "outputs": [
    {
     "name": "stdout",
     "output_type": "stream",
     "text": [
      "iter: 0 acc: 0.31363636363636366\n",
      "iter: 1 acc: 0.5636363636363636\n",
      "iter: 2 acc: 0.6681818181818182\n",
      "iter: 3 acc: 0.7318181818181818\n",
      "iter: 4 acc: 0.75\n",
      "iter: 5 acc: 0.75\n",
      "iter: 6 acc: 0.75\n",
      "iter: 7 acc: 0.75\n",
      "iter: 8 acc: 0.75\n",
      "iter: 9 acc: 0.75\n",
      "iter: 10 acc: 0.75\n",
      "iter: 11 acc: 0.75\n",
      "iter: 12 acc: 0.75\n",
      "iter: 13 acc: 0.75\n",
      "iter: 14 acc: 0.75\n"
     ]
    }
   ],
   "source": [
    "y_train = np.zeros((N,1), np.int)\n",
    "iters = 15\n",
    "for i in range(iters):\n",
    "#     X_train_expend = X_train.repeat(K, axis = 0)\n",
    "#     old_K_centers = np.copy(K_centers)\n",
    "    K_centers += 0.2*np.random.rand(K,D)\n",
    "    K_centers_expend = np.tile(K_centers, (N,1))\n",
    "    dis = np.sum((X_train_expend - K_centers_expend)**2, axis = 1)\n",
    "    dis = dis.reshape(N, K)\n",
    "    \n",
    "    min_idx = np.argmin(dis, axis = 1)\n",
    "#     old_idx = np.copy(min_idx)\n",
    "#     print min_idx\n",
    "#     print y_label.reshape(-1)\n",
    "\n",
    "    for j in range(K):\n",
    "#         print 'j: '+str(j)\n",
    "        j_idx = np.argwhere(min_idx==j)\n",
    "#         print j_idx.reshape(-1)\n",
    "#         print j_idx.shape, j_idx\n",
    "        if j_idx.shape[0] == 0:\n",
    "            K_centers[j] = np.random.rand(1,D)\n",
    "            continue\n",
    "#         print y_label[j_idx].reshape(-1)\n",
    "        count = np.bincount(y_label[j_idx].reshape(-1))\n",
    "#         print np.argmax(count)\n",
    "        y_train[j_idx] = np.argmax(count)\n",
    "#         print y_train[j_idx].reshape(-1)\n",
    "        all_j = X_train[j_idx.reshape(-1),:]\n",
    "    #     print all_j.shape\n",
    "        K_centers[j] = np.mean(all_j, axis = 0).reshape(1,-1)\n",
    "#     print y_train.reshape(-1)\n",
    "#     print y_label.reshape(-1)\n",
    "    acc = np.mean(y_train.reshape(-1) == y_label.reshape(-1))\n",
    "    print 'iter: '+str(i)+' acc: '+ str(acc)"
   ]
  },
  {
   "cell_type": "markdown",
   "metadata": {},
   "source": [
    "# All image K-means, 38 clusters"
   ]
  },
  {
   "cell_type": "code",
   "execution_count": 25,
   "metadata": {},
   "outputs": [
    {
     "name": "stdout",
     "output_type": "stream",
     "text": [
      "Data is existing, success load data:\n",
      "Training data: (2470, 7708)\n",
      "Label: (2470, 1)\n"
     ]
    }
   ],
   "source": [
    "X, y = extract_data()"
   ]
  },
  {
   "cell_type": "code",
   "execution_count": 26,
   "metadata": {},
   "outputs": [
    {
     "name": "stdout",
     "output_type": "stream",
     "text": [
      "[11005.50912044     0.         10441.18039304 10571.12212587\n",
      " 11132.58837827 10779.48166657 10392.09598685 10101.10746404\n",
      " 10684.71038447 10429.01975259 11106.69266704  9496.80756886\n",
      " 11384.3170634  10884.2879418   8807.16492408 10644.29607818\n",
      " 10999.05836879 10855.13597335 10851.38235434 10940.63869251\n",
      " 10635.83066808 11753.74753004  8479.7849619  10665.03895914\n",
      " 10828.00858884 11007.11501712  8997.70026173 10853.91652815\n",
      " 10971.75209344 10806.58100418  8569.9843057  10301.17769966\n",
      " 10307.24352094 10721.08189503 10952.18695056 11419.70800853\n",
      " 11183.25909563 11036.84483899 10816.72339482 11140.97441878\n",
      " 11617.84390496  9872.07435142  9592.55132903 10916.66496692\n",
      "  9439.68707108 11204.46942073 10832.17295837 10064.59154661\n",
      " 11025.7419705  10983.88433115  8372.71574819 11064.5717947\n",
      " 10738.09708468 11113.12489807  9670.87426244 10495.56911273\n",
      " 11048.08309165 11057.63672762 11079.42480456 10526.56900419\n",
      " 10867.67371612 10816.58684614  8086.5340536   9193.60054603\n",
      " 10477.70113145]\n",
      "[11472.68185735 11448.909031   10313.76056538 11060.61056181\n",
      " 11425.94184302 11338.7765213  10611.18386421 10848.84132062\n",
      " 10774.92473292 10179.7415979  11361.51006689 11492.8943265\n",
      " 11240.03064942 11408.15453963 10940.5058384  11391.11618763\n",
      " 11494.70169252 11474.15404289 11672.66477716 11299.65733994\n",
      " 10407.93543408 11416.71196098 11086.42142443 10846.73010635\n",
      " 10316.62173388 11873.9232775  11515.57223936  9811.49769403\n",
      " 11472.03761326 11472.84637743 11637.55897944 11465.55820708\n",
      " 11256.87070193 11422.57541013 11136.62525184 10216.17589903\n",
      " 11598.21361245 11407.00328745 11487.6767451  11354.30733246\n",
      " 11689.10783593 11613.48005552 11731.39787067 11217.25550213\n",
      " 11432.58592795 11575.75997505 11571.6764559  10154.81432622\n",
      " 11083.04339972 11314.58890106 11392.46088429 10964.3008441\n",
      " 11432.61326207 11442.45218474 11730.18716816 11533.43231653\n",
      "  9909.39978001 11134.36163415 11395.56282068 11724.40343898\n",
      " 11816.9172799  10801.89617614 11333.44497494 11630.80323967\n",
      " 10670.7055062 ]\n"
     ]
    }
   ],
   "source": [
    "samePicDis = np.sqrt(np.sum((X[0:65] - X[1])**2, axis=1))\n",
    "print samePicDis\n",
    "samePicDis = np.sqrt(np.sum((X[65:130] - X[1])**2, axis=1))\n",
    "print samePicDis\n",
    "# for i in range(10):\n",
    "#     samePicDis = np.sqrt(np.sum((X[i*23:i*23+23] - X[i*23])**2, axis=1))\n",
    "#     print np.sum(samePicDis<18000)"
   ]
  },
  {
   "cell_type": "code",
   "execution_count": 27,
   "metadata": {},
   "outputs": [],
   "source": [
    "# normalization\n",
    "X /= 255\n",
    "# number of classes\n",
    "K = 38\n",
    "\n",
    "N, D = X.shape\n",
    "# shuffle data\n",
    "np.random.seed(520)\n",
    "X_train = np.random.permutation(X)\n",
    "np.random.seed(520)\n",
    "y_label = np.random.permutation(y)"
   ]
  },
  {
   "cell_type": "code",
   "execution_count": 30,
   "metadata": {},
   "outputs": [
    {
     "name": "stdout",
     "output_type": "stream",
     "text": [
      "(93860, 7708) (38, 7708)\n"
     ]
    }
   ],
   "source": [
    "X_train_expend = X_train.repeat(K, axis = 0)\n",
    "# init K*D center\n",
    "K_centers = np.random.rand(K,D)\n",
    "# K_centers = X_train[:10]\n",
    "print X_train_expend.shape, K_centers.shape"
   ]
  },
  {
   "cell_type": "code",
   "execution_count": 31,
   "metadata": {},
   "outputs": [
    {
     "name": "stdout",
     "output_type": "stream",
     "text": [
      "iter: 0 acc: 0.11700404858299596\n",
      "iter: 1 acc: 0.20080971659919028\n",
      "iter: 2 acc: 0.25020242914979757\n",
      "iter: 3 acc: 0.28016194331983807\n",
      "iter: 4 acc: 0.29392712550607286\n",
      "iter: 5 acc: 0.29676113360323886\n",
      "iter: 6 acc: 0.2975708502024291\n",
      "iter: 7 acc: 0.3\n",
      "iter: 8 acc: 0.2987854251012146\n",
      "iter: 9 acc: 0.3\n",
      "iter: 10 acc: 0.302834008097166\n",
      "iter: 11 acc: 0.30364372469635625\n",
      "iter: 12 acc: 0.30526315789473685\n",
      "iter: 13 acc: 0.308502024291498\n",
      "iter: 14 acc: 0.31093117408906884\n",
      "iter: 15 acc: 0.31093117408906884\n",
      "iter: 16 acc: 0.31497975708502024\n",
      "iter: 17 acc: 0.31497975708502024\n",
      "iter: 18 acc: 0.3145748987854251\n",
      "iter: 19 acc: 0.31497975708502024\n",
      "iter: 20 acc: 0.3153846153846154\n",
      "iter: 21 acc: 0.3157894736842105\n",
      "iter: 22 acc: 0.3157894736842105\n",
      "iter: 23 acc: 0.3153846153846154\n",
      "iter: 24 acc: 0.31497975708502024\n",
      "iter: 25 acc: 0.3145748987854251\n",
      "iter: 26 acc: 0.31497975708502024\n",
      "iter: 27 acc: 0.31619433198380564\n",
      "iter: 28 acc: 0.31619433198380564\n",
      "iter: 29 acc: 0.31619433198380564\n"
     ]
    }
   ],
   "source": [
    "y_train = np.zeros((N,1), np.int)\n",
    "iters = 30\n",
    "for i in range(iters):\n",
    "#     X_train_expend = X_train.repeat(K, axis = 0)\n",
    "#     old_K_centers = np.copy(K_centers)\n",
    "    K_centers += 0.2*np.random.rand(K,D)\n",
    "    K_centers_expend = np.tile(K_centers, (N,1))\n",
    "    dis = np.sum((X_train_expend - K_centers_expend)**2, axis = 1)\n",
    "    dis = dis.reshape(N, K)\n",
    "    \n",
    "    min_idx = np.argmin(dis, axis = 1)\n",
    "#     old_idx = np.copy(min_idx)\n",
    "#     print min_idx\n",
    "#     print y_label.reshape(-1)\n",
    "\n",
    "    for j in range(K):\n",
    "#         print 'j: '+str(j)\n",
    "        j_idx = np.argwhere(min_idx==j)\n",
    "#         print j_idx.reshape(-1)\n",
    "#         print j_idx.shape, j_idx\n",
    "        if j_idx.shape[0] == 0:\n",
    "            K_centers[j] = np.random.rand(1,D)\n",
    "            continue\n",
    "#         print y_label[j_idx].reshape(-1)\n",
    "        count = np.bincount(y_label[j_idx].reshape(-1))\n",
    "#         print np.argmax(count)\n",
    "        y_train[j_idx] = np.argmax(count)\n",
    "#         print y_train[j_idx].reshape(-1)\n",
    "        all_j = X_train[j_idx.reshape(-1),:]\n",
    "    #     print all_j.shape\n",
    "        K_centers[j] = np.mean(all_j, axis = 0).reshape(1,-1)\n",
    "#     print y_train.reshape(-1)\n",
    "#     print y_label.reshape(-1)\n",
    "    acc = np.mean(y_train.reshape(-1) == y_label.reshape(-1))\n",
    "    print 'iter: '+str(i)+' acc: '+ str(acc)"
   ]
  },
  {
   "cell_type": "code",
   "execution_count": null,
   "metadata": {},
   "outputs": [],
   "source": []
  }
 ],
 "metadata": {
  "kernelspec": {
   "display_name": "Python 2",
   "language": "python",
   "name": "python2"
  },
  "language_info": {
   "codemirror_mode": {
    "name": "ipython",
    "version": 2
   },
   "file_extension": ".py",
   "mimetype": "text/x-python",
   "name": "python",
   "nbconvert_exporter": "python",
   "pygments_lexer": "ipython2",
   "version": "2.7.12"
  }
 },
 "nbformat": 4,
 "nbformat_minor": 2
}
