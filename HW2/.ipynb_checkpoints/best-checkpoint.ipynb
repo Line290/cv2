{
 "cells": [
  {
   "cell_type": "code",
   "execution_count": 1,
   "metadata": {},
   "outputs": [],
   "source": [
    "import cv2"
   ]
  },
  {
   "cell_type": "markdown",
   "metadata": {},
   "source": [
    "# read image"
   ]
  },
  {
   "cell_type": "code",
   "execution_count": 2,
   "metadata": {},
   "outputs": [
    {
     "data": {
      "text/plain": [
       "array([[211, 211, 211, ..., 211, 211, 211],\n",
       "       [211, 211, 211, ..., 211, 211, 211],\n",
       "       [211, 211, 211, ..., 211, 211, 211],\n",
       "       ..., \n",
       "       [ 26,  26,  26, ...,  26,  26,  26],\n",
       "       [ 26,  26,  26, ...,  26,  26,  26],\n",
       "       [ 26,  26,  26, ...,  26,  26,  26]], dtype=uint8)"
      ]
     },
     "execution_count": 2,
     "metadata": {},
     "output_type": "execute_result"
    }
   ],
   "source": [
    "cv2.imread('./lena.jpg', cv2.IMREAD_GRAYSCALE)"
   ]
  },
  {
   "cell_type": "code",
   "execution_count": 2,
   "metadata": {
    "scrolled": true
   },
   "outputs": [
    {
     "name": "stdout",
     "output_type": "stream",
     "text": [
      "[[[144 230 200]\n",
      "  [144 230 200]\n",
      "  [144 230 200]\n",
      "  ..., \n",
      "  [144 230 200]\n",
      "  [144 230 200]\n",
      "  [144 230 200]]\n",
      "\n",
      " [[144 230 200]\n",
      "  [144 230 200]\n",
      "  [144 230 200]\n",
      "  ..., \n",
      "  [144 230 200]\n",
      "  [144 230 200]\n",
      "  [144 230 200]]\n",
      "\n",
      " [[144 230 200]\n",
      "  [144 230 200]\n",
      "  [144 230 200]\n",
      "  ..., \n",
      "  [144 230 200]\n",
      "  [144 230 200]\n",
      "  [144 230 200]]\n",
      "\n",
      " ..., \n",
      " [[ 37  30  15]\n",
      "  [ 37  30  15]\n",
      "  [ 37  30  15]\n",
      "  ..., \n",
      "  [ 37  30  15]\n",
      "  [ 37  30  15]\n",
      "  [ 37  30  15]]\n",
      "\n",
      " [[ 37  30  15]\n",
      "  [ 37  30  15]\n",
      "  [ 37  30  15]\n",
      "  ..., \n",
      "  [ 37  30  15]\n",
      "  [ 37  30  15]\n",
      "  [ 37  30  15]]\n",
      "\n",
      " [[ 37  30  15]\n",
      "  [ 37  30  15]\n",
      "  [ 37  30  15]\n",
      "  ..., \n",
      "  [ 37  30  15]\n",
      "  [ 37  30  15]\n",
      "  [ 37  30  15]]]\n"
     ]
    }
   ],
   "source": [
    "a = cv2.imread('./lena.jpg', cv2.IMREAD_COLOR)\n",
    "print a"
   ]
  },
  {
   "cell_type": "code",
   "execution_count": 3,
   "metadata": {},
   "outputs": [],
   "source": [
    "b = cv2.imread('./lena.jpg', cv2.IMREAD_UNCHANGED)"
   ]
  },
  {
   "cell_type": "code",
   "execution_count": 4,
   "metadata": {},
   "outputs": [
    {
     "name": "stdout",
     "output_type": "stream",
     "text": [
      "1.0\n"
     ]
    }
   ],
   "source": [
    "print (a==b).mean()"
   ]
  },
  {
   "cell_type": "markdown",
   "metadata": {},
   "source": [
    "# show image"
   ]
  },
  {
   "cell_type": "code",
   "execution_count": 5,
   "metadata": {},
   "outputs": [],
   "source": [
    "def im_show(b):\n",
    "    cv2.imshow('image', b)\n",
    "    cv2.waitKey(0)\n",
    "    # cv2.destroyAllWindows()\n",
    "    cv2.destroyWindow('image')"
   ]
  },
  {
   "cell_type": "markdown",
   "metadata": {},
   "source": [
    "# save image"
   ]
  },
  {
   "cell_type": "code",
   "execution_count": 6,
   "metadata": {},
   "outputs": [
    {
     "data": {
      "text/plain": [
       "True"
      ]
     },
     "execution_count": 6,
     "metadata": {},
     "output_type": "execute_result"
    }
   ],
   "source": [
    "cv2.imwrite('image.jpg',b)"
   ]
  },
  {
   "cell_type": "code",
   "execution_count": 7,
   "metadata": {},
   "outputs": [
    {
     "data": {
      "text/plain": [
       "True"
      ]
     },
     "execution_count": 7,
     "metadata": {},
     "output_type": "execute_result"
    }
   ],
   "source": [
    "cv2.imwrite('image_95.jpg',b, [int( cv2.IMWRITE_JPEG_QUALITY), 95])\n",
    "cv2.imwrite('image_9.jpg',b, [int(cv2.IMWRITE_PNG_COMPRESSION), 9])"
   ]
  },
  {
   "cell_type": "markdown",
   "metadata": {},
   "source": [
    "# filp"
   ]
  },
  {
   "cell_type": "markdown",
   "metadata": {},
   "source": [
    "change left and right"
   ]
  },
  {
   "cell_type": "code",
   "execution_count": 8,
   "metadata": {},
   "outputs": [],
   "source": [
    "imgflip = cv2.flip(b, 1)\n",
    "im_show(imgflip)"
   ]
  },
  {
   "cell_type": "markdown",
   "metadata": {},
   "source": [
    "change up and down"
   ]
  },
  {
   "cell_type": "code",
   "execution_count": 9,
   "metadata": {},
   "outputs": [],
   "source": [
    "imgflip = cv2.flip(b, 0)\n",
    "im_show(imgflip)"
   ]
  },
  {
   "cell_type": "markdown",
   "metadata": {},
   "source": [
    "change left and right along up and down"
   ]
  },
  {
   "cell_type": "code",
   "execution_count": 10,
   "metadata": {},
   "outputs": [],
   "source": [
    "imgflip = cv2.flip(b, -1)\n",
    "im_show(imgflip)"
   ]
  },
  {
   "cell_type": "markdown",
   "metadata": {},
   "source": [
    "# copy image"
   ]
  },
  {
   "cell_type": "code",
   "execution_count": 12,
   "metadata": {},
   "outputs": [],
   "source": [
    "img = b.copy()"
   ]
  },
  {
   "cell_type": "markdown",
   "metadata": {},
   "source": [
    "# color change"
   ]
  },
  {
   "cell_type": "code",
   "execution_count": 16,
   "metadata": {},
   "outputs": [],
   "source": [
    "#彩色图像转为灰度图像\n",
    "img2 = cv2.cvtColor(img,cv2.COLOR_RGB2GRAY)\n",
    "im_show(img2)"
   ]
  },
  {
   "cell_type": "code",
   "execution_count": 17,
   "metadata": {},
   "outputs": [],
   "source": [
    "#灰度图像转为彩色图像\n",
    "img3 = cv2.cvtColor(img2,cv2.COLOR_GRAY2RGB)\n",
    "# cv2.COLOR_X2Y，其中X,Y = RGB, BGR, GRAY, HSV, YCrCb, XYZ, Lab, Luv, HLS\n",
    "im_show(img3)"
   ]
  },
  {
   "cell_type": "markdown",
   "metadata": {},
   "source": [
    "# image scale"
   ]
  },
  {
   "cell_type": "code",
   "execution_count": 22,
   "metadata": {},
   "outputs": [
    {
     "name": "stdout",
     "output_type": "stream",
     "text": [
      "(1440, 3440, 3)\n"
     ]
    }
   ],
   "source": [
    "print b.shape\n",
    "import numpy as np\n",
    "def get_scaled_imgs(img):\n",
    "    np.array(img)\n",
    "    scaled_img = np.zeros_like(img)\n",
    "    scaled_img = (img - img.min(axis=(0,1))) / (img.max(axis=(0,1)) - img.min(axis=(0,1)))\n",
    "    return scaled_img"
   ]
  },
  {
   "cell_type": "code",
   "execution_count": 23,
   "metadata": {},
   "outputs": [],
   "source": [
    "b_scaled = get_scaled_imgs(b)"
   ]
  },
  {
   "cell_type": "code",
   "execution_count": null,
   "metadata": {},
   "outputs": [],
   "source": [
    "im_show(b_scaled)"
   ]
  },
  {
   "cell_type": "code",
   "execution_count": null,
   "metadata": {},
   "outputs": [],
   "source": [
    "print b_scaled.shape\n",
    "print b_scaled"
   ]
  }
 ],
 "metadata": {
  "kernelspec": {
   "display_name": "Python 2",
   "language": "python",
   "name": "python2"
  },
  "language_info": {
   "codemirror_mode": {
    "name": "ipython",
    "version": 2
   },
   "file_extension": ".py",
   "mimetype": "text/x-python",
   "name": "python",
   "nbconvert_exporter": "python",
   "pygments_lexer": "ipython2",
   "version": "2.7.12"
  }
 },
 "nbformat": 4,
 "nbformat_minor": 2
}
